{
 "cells": [
  {
   "cell_type": "code",
   "execution_count": 1,
   "id": "6fa353bb",
   "metadata": {},
   "outputs": [],
   "source": [
    "# 导入所需要的包\n",
    "import pandas as pd\n",
    "import seaborn as sns\n",
    "import matplotlib.pyplot as plt"
   ]
  },
  {
   "cell_type": "code",
   "execution_count": 2,
   "id": "8663b965",
   "metadata": {},
   "outputs": [],
   "source": [
    "# 读取数据\n",
    "train = pd.read_excel('./data/data.xlsx')\n",
    "test = pd.read_excel('./data/test.xlsx')\n",
    "data_数据说明 = pd.read_excel('./data/字段说明.xlsx')"
   ]
  },
  {
   "cell_type": "code",
   "execution_count": 3,
   "id": "c0e4df02",
   "metadata": {},
   "outputs": [
    {
     "data": {
      "text/html": [
       "<div>\n",
       "<style scoped>\n",
       "    .dataframe tbody tr th:only-of-type {\n",
       "        vertical-align: middle;\n",
       "    }\n",
       "\n",
       "    .dataframe tbody tr th {\n",
       "        vertical-align: top;\n",
       "    }\n",
       "\n",
       "    .dataframe thead th {\n",
       "        text-align: right;\n",
       "    }\n",
       "</style>\n",
       "<table border=\"1\" class=\"dataframe\">\n",
       "  <thead>\n",
       "    <tr style=\"text-align: right;\">\n",
       "      <th></th>\n",
       "      <th>target</th>\n",
       "      <th>userId</th>\n",
       "      <th>sellerId</th>\n",
       "      <th>timestamp</th>\n",
       "      <th>comment</th>\n",
       "    </tr>\n",
       "  </thead>\n",
       "  <tbody>\n",
       "    <tr>\n",
       "      <th>0</th>\n",
       "      <td>1</td>\n",
       "      <td>127</td>\n",
       "      <td>1708</td>\n",
       "      <td>2019-10-01 00:57:45.000003</td>\n",
       "      <td>text：订餐1个半小时不见餐，催了还挂电话！☆ ☆ ☆</td>\n",
       "    </tr>\n",
       "    <tr>\n",
       "      <th>1</th>\n",
       "      <td>1</td>\n",
       "      <td>1661</td>\n",
       "      <td>886</td>\n",
       "      <td>2019-10-01 00:42:07.000001</td>\n",
       "      <td>text：太不靠谱！× × 不是漏发订单就是菜送错了，要不就早送一小时！！！× ×</td>\n",
       "    </tr>\n",
       "    <tr>\n",
       "      <th>2</th>\n",
       "      <td>0</td>\n",
       "      <td>92758</td>\n",
       "      <td>10612</td>\n",
       "      <td>2019-10-01 00:51:18.000000</td>\n",
       "      <td>text：超级超级喜欢吃，每次去都好开心，口味很好，建议手套多戴几双，吃完之后的形象是不太好...</td>\n",
       "    </tr>\n",
       "    <tr>\n",
       "      <th>3</th>\n",
       "      <td>0</td>\n",
       "      <td>1639</td>\n",
       "      <td>1699</td>\n",
       "      <td>2019-10-03 00:01:56.000001</td>\n",
       "      <td>text：谢谢快递哥哥，非常准时，辛苦啦</td>\n",
       "    </tr>\n",
       "    <tr>\n",
       "      <th>4</th>\n",
       "      <td>1</td>\n",
       "      <td>241839</td>\n",
       "      <td>36556</td>\n",
       "      <td>2019-10-01 00:07:56.000004</td>\n",
       "      <td>非常差得餐厅，上菜非常慢，且贵！属于可以在餐厅饿死的那种\\n，面条没有味道，一碗28，坑死爹...</td>\n",
       "    </tr>\n",
       "  </tbody>\n",
       "</table>\n",
       "</div>"
      ],
      "text/plain": [
       "   target  userId  sellerId                  timestamp  \\\n",
       "0       1     127      1708 2019-10-01 00:57:45.000003   \n",
       "1       1    1661       886 2019-10-01 00:42:07.000001   \n",
       "2       0   92758     10612 2019-10-01 00:51:18.000000   \n",
       "3       0    1639      1699 2019-10-03 00:01:56.000001   \n",
       "4       1  241839     36556 2019-10-01 00:07:56.000004   \n",
       "\n",
       "                                             comment  \n",
       "0                      text：订餐1个半小时不见餐，催了还挂电话！☆ ☆ ☆   \n",
       "1         text：太不靠谱！× × 不是漏发订单就是菜送错了，要不就早送一小时！！！× ×   \n",
       "2  text：超级超级喜欢吃，每次去都好开心，口味很好，建议手套多戴几双，吃完之后的形象是不太好...  \n",
       "3                               text：谢谢快递哥哥，非常准时，辛苦啦  \n",
       "4  非常差得餐厅，上菜非常慢，且贵！属于可以在餐厅饿死的那种\\n，面条没有味道，一碗28，坑死爹...  "
      ]
     },
     "execution_count": 3,
     "metadata": {},
     "output_type": "execute_result"
    }
   ],
   "source": [
    "train.head()"
   ]
  },
  {
   "cell_type": "code",
   "execution_count": 4,
   "id": "fc9b0d60",
   "metadata": {},
   "outputs": [
    {
     "data": {
      "text/html": [
       "<div>\n",
       "<style scoped>\n",
       "    .dataframe tbody tr th:only-of-type {\n",
       "        vertical-align: middle;\n",
       "    }\n",
       "\n",
       "    .dataframe tbody tr th {\n",
       "        vertical-align: top;\n",
       "    }\n",
       "\n",
       "    .dataframe thead th {\n",
       "        text-align: right;\n",
       "    }\n",
       "</style>\n",
       "<table border=\"1\" class=\"dataframe\">\n",
       "  <thead>\n",
       "    <tr style=\"text-align: right;\">\n",
       "      <th></th>\n",
       "      <th>target</th>\n",
       "      <th>userId</th>\n",
       "      <th>sellerId</th>\n",
       "      <th>timestamp</th>\n",
       "      <th>comment</th>\n",
       "    </tr>\n",
       "  </thead>\n",
       "  <tbody>\n",
       "    <tr>\n",
       "      <th>0</th>\n",
       "      <td>NaN</td>\n",
       "      <td>72916</td>\n",
       "      <td>11976</td>\n",
       "      <td>2020-10-01 12:38:17</td>\n",
       "      <td>text：买的人很多，味道好，是十年以上的老店了~~~~\\n</td>\n",
       "    </tr>\n",
       "    <tr>\n",
       "      <th>1</th>\n",
       "      <td>NaN</td>\n",
       "      <td>39091</td>\n",
       "      <td>34918</td>\n",
       "      <td>2020-10-01 17:35:04</td>\n",
       "      <td>原来是辣的流泪，所以叫伤心凉粉。厉害，味道不错，不过吃完还想吃。\\n</td>\n",
       "    </tr>\n",
       "    <tr>\n",
       "      <th>2</th>\n",
       "      <td>NaN</td>\n",
       "      <td>289933</td>\n",
       "      <td>59229</td>\n",
       "      <td>2020-10-01 21:00:17</td>\n",
       "      <td>text：外卖好快的，适合中午点</td>\n",
       "    </tr>\n",
       "    <tr>\n",
       "      <th>3</th>\n",
       "      <td>NaN</td>\n",
       "      <td>77764</td>\n",
       "      <td>27100</td>\n",
       "      <td>2020-10-02 06:40:07</td>\n",
       "      <td>text：整体感觉就是一般，味道也一般，可能是个人因素哈．\\n</td>\n",
       "    </tr>\n",
       "    <tr>\n",
       "      <th>4</th>\n",
       "      <td>NaN</td>\n",
       "      <td>24687</td>\n",
       "      <td>30939</td>\n",
       "      <td>2020-10-02 07:28:33</td>\n",
       "      <td>text：我不喜欢</td>\n",
       "    </tr>\n",
       "  </tbody>\n",
       "</table>\n",
       "</div>"
      ],
      "text/plain": [
       "   target  userId  sellerId            timestamp  \\\n",
       "0     NaN   72916     11976  2020-10-01 12:38:17   \n",
       "1     NaN   39091     34918  2020-10-01 17:35:04   \n",
       "2     NaN  289933     59229  2020-10-01 21:00:17   \n",
       "3     NaN   77764     27100  2020-10-02 06:40:07   \n",
       "4     NaN   24687     30939  2020-10-02 07:28:33   \n",
       "\n",
       "                              comment  \n",
       "0      text：买的人很多，味道好，是十年以上的老店了~~~~\\n  \n",
       "1  原来是辣的流泪，所以叫伤心凉粉。厉害，味道不错，不过吃完还想吃。\\n  \n",
       "2                    text：外卖好快的，适合中午点  \n",
       "3     text：整体感觉就是一般，味道也一般，可能是个人因素哈．\\n  \n",
       "4                           text：我不喜欢  "
      ]
     },
     "execution_count": 4,
     "metadata": {},
     "output_type": "execute_result"
    }
   ],
   "source": [
    "test.head()"
   ]
  },
  {
   "cell_type": "code",
   "execution_count": 5,
   "id": "16df5d85",
   "metadata": {},
   "outputs": [
    {
     "data": {
      "text/html": [
       "<div>\n",
       "<style scoped>\n",
       "    .dataframe tbody tr th:only-of-type {\n",
       "        vertical-align: middle;\n",
       "    }\n",
       "\n",
       "    .dataframe tbody tr th {\n",
       "        vertical-align: top;\n",
       "    }\n",
       "\n",
       "    .dataframe thead th {\n",
       "        text-align: right;\n",
       "    }\n",
       "</style>\n",
       "<table border=\"1\" class=\"dataframe\">\n",
       "  <thead>\n",
       "    <tr style=\"text-align: right;\">\n",
       "      <th></th>\n",
       "      <th>字段</th>\n",
       "      <th>说明</th>\n",
       "    </tr>\n",
       "  </thead>\n",
       "  <tbody>\n",
       "    <tr>\n",
       "      <th>0</th>\n",
       "      <td>target</td>\n",
       "      <td>评价标签，0为积极情绪，1为消极情绪</td>\n",
       "    </tr>\n",
       "    <tr>\n",
       "      <th>1</th>\n",
       "      <td>userId</td>\n",
       "      <td>用户id，对应每个用户</td>\n",
       "    </tr>\n",
       "    <tr>\n",
       "      <th>2</th>\n",
       "      <td>sellerId</td>\n",
       "      <td>商家id，对应每个商家</td>\n",
       "    </tr>\n",
       "    <tr>\n",
       "      <th>3</th>\n",
       "      <td>timestamp</td>\n",
       "      <td>评价的时间</td>\n",
       "    </tr>\n",
       "    <tr>\n",
       "      <th>4</th>\n",
       "      <td>comment</td>\n",
       "      <td>评价的内容</td>\n",
       "    </tr>\n",
       "  </tbody>\n",
       "</table>\n",
       "</div>"
      ],
      "text/plain": [
       "          字段                  说明\n",
       "0     target  评价标签，0为积极情绪，1为消极情绪\n",
       "1     userId         用户id，对应每个用户\n",
       "2   sellerId         商家id，对应每个商家\n",
       "3  timestamp               评价的时间\n",
       "4    comment               评价的内容"
      ]
     },
     "execution_count": 5,
     "metadata": {},
     "output_type": "execute_result"
    }
   ],
   "source": [
    "data_数据说明"
   ]
  },
  {
   "cell_type": "markdown",
   "id": "4833faff",
   "metadata": {},
   "source": [
    "### 查看数据的形状"
   ]
  },
  {
   "cell_type": "code",
   "execution_count": 6,
   "id": "89f34381",
   "metadata": {},
   "outputs": [
    {
     "data": {
      "text/plain": [
       "(17953, 5)"
      ]
     },
     "execution_count": 6,
     "metadata": {},
     "output_type": "execute_result"
    }
   ],
   "source": [
    "train.shape"
   ]
  },
  {
   "cell_type": "code",
   "execution_count": 7,
   "id": "2123a542",
   "metadata": {},
   "outputs": [
    {
     "data": {
      "text/plain": [
       "(1500, 5)"
      ]
     },
     "execution_count": 7,
     "metadata": {},
     "output_type": "execute_result"
    }
   ],
   "source": [
    "test.shape"
   ]
  },
  {
   "cell_type": "code",
   "execution_count": 12,
   "id": "53bb2b5a",
   "metadata": {},
   "outputs": [
    {
     "data": {
      "text/plain": [
       "(target       0\n",
       " userId       0\n",
       " sellerId     0\n",
       " timestamp    0\n",
       " comment      0\n",
       " dtype: int64,\n",
       " target       1500\n",
       " userId          0\n",
       " sellerId        0\n",
       " timestamp       0\n",
       " comment         0\n",
       " dtype: int64)"
      ]
     },
     "execution_count": 12,
     "metadata": {},
     "output_type": "execute_result"
    }
   ],
   "source": [
    "# 查看数据是否有缺失值\n",
    "train.isnull().sum(),test.isnull().sum()"
   ]
  },
  {
   "cell_type": "code",
   "execution_count": 10,
   "id": "d18a5605",
   "metadata": {},
   "outputs": [
    {
     "name": "stdout",
     "output_type": "stream",
     "text": [
      "train.shape,test.shape (17953, 5) (1500, 5)\n"
     ]
    }
   ],
   "source": [
    "print(\"train.shape,test.shape\",train.shape,test.shape)"
   ]
  },
  {
   "cell_type": "code",
   "execution_count": 11,
   "id": "bfb6750c",
   "metadata": {},
   "outputs": [
    {
     "data": {
      "text/html": [
       "<div>\n",
       "<style scoped>\n",
       "    .dataframe tbody tr th:only-of-type {\n",
       "        vertical-align: middle;\n",
       "    }\n",
       "\n",
       "    .dataframe tbody tr th {\n",
       "        vertical-align: top;\n",
       "    }\n",
       "\n",
       "    .dataframe thead th {\n",
       "        text-align: right;\n",
       "    }\n",
       "</style>\n",
       "<table border=\"1\" class=\"dataframe\">\n",
       "  <thead>\n",
       "    <tr style=\"text-align: right;\">\n",
       "      <th></th>\n",
       "      <th>target</th>\n",
       "      <th>userId</th>\n",
       "      <th>sellerId</th>\n",
       "      <th>timestamp</th>\n",
       "      <th>comment</th>\n",
       "    </tr>\n",
       "  </thead>\n",
       "  <tbody>\n",
       "    <tr>\n",
       "      <th>0</th>\n",
       "      <td>1</td>\n",
       "      <td>127</td>\n",
       "      <td>1708</td>\n",
       "      <td>2019-10-01 00:57:45.000003</td>\n",
       "      <td>text：订餐1个半小时不见餐，催了还挂电话！☆ ☆ ☆</td>\n",
       "    </tr>\n",
       "    <tr>\n",
       "      <th>1</th>\n",
       "      <td>1</td>\n",
       "      <td>1661</td>\n",
       "      <td>886</td>\n",
       "      <td>2019-10-01 00:42:07.000001</td>\n",
       "      <td>text：太不靠谱！× × 不是漏发订单就是菜送错了，要不就早送一小时！！！× ×</td>\n",
       "    </tr>\n",
       "    <tr>\n",
       "      <th>2</th>\n",
       "      <td>0</td>\n",
       "      <td>92758</td>\n",
       "      <td>10612</td>\n",
       "      <td>2019-10-01 00:51:18.000000</td>\n",
       "      <td>text：超级超级喜欢吃，每次去都好开心，口味很好，建议手套多戴几双，吃完之后的形象是不太好...</td>\n",
       "    </tr>\n",
       "    <tr>\n",
       "      <th>3</th>\n",
       "      <td>0</td>\n",
       "      <td>1639</td>\n",
       "      <td>1699</td>\n",
       "      <td>2019-10-03 00:01:56.000001</td>\n",
       "      <td>text：谢谢快递哥哥，非常准时，辛苦啦</td>\n",
       "    </tr>\n",
       "    <tr>\n",
       "      <th>4</th>\n",
       "      <td>1</td>\n",
       "      <td>241839</td>\n",
       "      <td>36556</td>\n",
       "      <td>2019-10-01 00:07:56.000004</td>\n",
       "      <td>非常差得餐厅，上菜非常慢，且贵！属于可以在餐厅饿死的那种\\n，面条没有味道，一碗28，坑死爹...</td>\n",
       "    </tr>\n",
       "    <tr>\n",
       "      <th>...</th>\n",
       "      <td>...</td>\n",
       "      <td>...</td>\n",
       "      <td>...</td>\n",
       "      <td>...</td>\n",
       "      <td>...</td>\n",
       "    </tr>\n",
       "    <tr>\n",
       "      <th>17948</th>\n",
       "      <td>0</td>\n",
       "      <td>34025</td>\n",
       "      <td>24833</td>\n",
       "      <td>2020-09-25 23:15:36.000003</td>\n",
       "      <td>text：感觉这里好像发挥不是很稳定,来了几此,有好有坏.吃日料主要就关注三文鱼,这里的属于...</td>\n",
       "    </tr>\n",
       "    <tr>\n",
       "      <th>17949</th>\n",
       "      <td>1</td>\n",
       "      <td>656</td>\n",
       "      <td>901</td>\n",
       "      <td>2020-09-25 23:17:48.999999</td>\n",
       "      <td>text：订的九点送到，十二点才到，呵呵× × × × × × × ×</td>\n",
       "    </tr>\n",
       "    <tr>\n",
       "      <th>17950</th>\n",
       "      <td>1</td>\n",
       "      <td>612</td>\n",
       "      <td>743</td>\n",
       "      <td>2020-09-27 23:36:59.000000</td>\n",
       "      <td>text：差评！辣白菜五花肉石锅拌饭超级难吃！五花肉又硬又难吃，感觉不新鲜。以后再也不会吃这家店了</td>\n",
       "    </tr>\n",
       "    <tr>\n",
       "      <th>17951</th>\n",
       "      <td>1</td>\n",
       "      <td>146739</td>\n",
       "      <td>15687</td>\n",
       "      <td>2020-09-27 23:53:15.000000</td>\n",
       "      <td>又贵又不好吃，老婆几次非要来看看，这次一吃真难吃。\\n蒸没错，但比炒菜更油腻，没啥菜好吃，以...</td>\n",
       "    </tr>\n",
       "    <tr>\n",
       "      <th>17952</th>\n",
       "      <td>1</td>\n",
       "      <td>444</td>\n",
       "      <td>1143</td>\n",
       "      <td>2020-09-27 23:59:19.999997</td>\n",
       "      <td>text：小炒肉太辣，辣椒放太多，凉粉更辣！还有就是连筷子都不给难道要用手抓着吃吗？× × ×</td>\n",
       "    </tr>\n",
       "  </tbody>\n",
       "</table>\n",
       "<p>17953 rows × 5 columns</p>\n",
       "</div>"
      ],
      "text/plain": [
       "       target  userId  sellerId                  timestamp  \\\n",
       "0           1     127      1708 2019-10-01 00:57:45.000003   \n",
       "1           1    1661       886 2019-10-01 00:42:07.000001   \n",
       "2           0   92758     10612 2019-10-01 00:51:18.000000   \n",
       "3           0    1639      1699 2019-10-03 00:01:56.000001   \n",
       "4           1  241839     36556 2019-10-01 00:07:56.000004   \n",
       "...       ...     ...       ...                        ...   \n",
       "17948       0   34025     24833 2020-09-25 23:15:36.000003   \n",
       "17949       1     656       901 2020-09-25 23:17:48.999999   \n",
       "17950       1     612       743 2020-09-27 23:36:59.000000   \n",
       "17951       1  146739     15687 2020-09-27 23:53:15.000000   \n",
       "17952       1     444      1143 2020-09-27 23:59:19.999997   \n",
       "\n",
       "                                                 comment  \n",
       "0                          text：订餐1个半小时不见餐，催了还挂电话！☆ ☆ ☆   \n",
       "1             text：太不靠谱！× × 不是漏发订单就是菜送错了，要不就早送一小时！！！× ×   \n",
       "2      text：超级超级喜欢吃，每次去都好开心，口味很好，建议手套多戴几双，吃完之后的形象是不太好...  \n",
       "3                                   text：谢谢快递哥哥，非常准时，辛苦啦  \n",
       "4      非常差得餐厅，上菜非常慢，且贵！属于可以在餐厅饿死的那种\\n，面条没有味道，一碗28，坑死爹...  \n",
       "...                                                  ...  \n",
       "17948  text：感觉这里好像发挥不是很稳定,来了几此,有好有坏.吃日料主要就关注三文鱼,这里的属于...  \n",
       "17949               text：订的九点送到，十二点才到，呵呵× × × × × × × ×   \n",
       "17950  text：差评！辣白菜五花肉石锅拌饭超级难吃！五花肉又硬又难吃，感觉不新鲜。以后再也不会吃这家店了  \n",
       "17951  又贵又不好吃，老婆几次非要来看看，这次一吃真难吃。\\n蒸没错，但比炒菜更油腻，没啥菜好吃，以...  \n",
       "17952   text：小炒肉太辣，辣椒放太多，凉粉更辣！还有就是连筷子都不给难道要用手抓着吃吗？× × ×   \n",
       "\n",
       "[17953 rows x 5 columns]"
      ]
     },
     "execution_count": 11,
     "metadata": {},
     "output_type": "execute_result"
    }
   ],
   "source": [
    "train"
   ]
  },
  {
   "cell_type": "code",
   "execution_count": null,
   "id": "7dd315ce",
   "metadata": {},
   "outputs": [],
   "source": []
  }
 ],
 "metadata": {
  "kernelspec": {
   "display_name": "Python [conda env:pt] *",
   "language": "python",
   "name": "conda-env-pt-py"
  },
  "language_info": {
   "codemirror_mode": {
    "name": "ipython",
    "version": 3
   },
   "file_extension": ".py",
   "mimetype": "text/x-python",
   "name": "python",
   "nbconvert_exporter": "python",
   "pygments_lexer": "ipython3",
   "version": "3.8.0"
  }
 },
 "nbformat": 4,
 "nbformat_minor": 5
}
